{
  "nbformat": 4,
  "nbformat_minor": 0,
  "metadata": {
    "colab": {
      "provenance": []
    },
    "kernelspec": {
      "name": "python3",
      "display_name": "Python 3"
    },
    "language_info": {
      "name": "python"
    }
  },
  "cells": [
    {
      "cell_type": "code",
      "execution_count": 3,
      "metadata": {
        "colab": {
          "base_uri": "https://localhost:8080/",
          "height": 142
        },
        "id": "21pR1ZuC1E0S",
        "outputId": "2f237d93-fce9-48ce-8a78-e0b5d389b0da"
      },
      "outputs": [
        {
          "output_type": "display_data",
          "data": {
            "text/plain": [
              "<IPython.core.display.HTML object>"
            ],
            "text/html": [
              "\n",
              "     <input type=\"file\" id=\"files-95e0bfbf-1136-40a4-8d51-b10540473ad2\" name=\"files[]\" multiple disabled\n",
              "        style=\"border:none\" />\n",
              "     <output id=\"result-95e0bfbf-1136-40a4-8d51-b10540473ad2\">\n",
              "      Upload widget is only available when the cell has been executed in the\n",
              "      current browser session. Please rerun this cell to enable.\n",
              "      </output>\n",
              "      <script>// Copyright 2017 Google LLC\n",
              "//\n",
              "// Licensed under the Apache License, Version 2.0 (the \"License\");\n",
              "// you may not use this file except in compliance with the License.\n",
              "// You may obtain a copy of the License at\n",
              "//\n",
              "//      http://www.apache.org/licenses/LICENSE-2.0\n",
              "//\n",
              "// Unless required by applicable law or agreed to in writing, software\n",
              "// distributed under the License is distributed on an \"AS IS\" BASIS,\n",
              "// WITHOUT WARRANTIES OR CONDITIONS OF ANY KIND, either express or implied.\n",
              "// See the License for the specific language governing permissions and\n",
              "// limitations under the License.\n",
              "\n",
              "/**\n",
              " * @fileoverview Helpers for google.colab Python module.\n",
              " */\n",
              "(function(scope) {\n",
              "function span(text, styleAttributes = {}) {\n",
              "  const element = document.createElement('span');\n",
              "  element.textContent = text;\n",
              "  for (const key of Object.keys(styleAttributes)) {\n",
              "    element.style[key] = styleAttributes[key];\n",
              "  }\n",
              "  return element;\n",
              "}\n",
              "\n",
              "// Max number of bytes which will be uploaded at a time.\n",
              "const MAX_PAYLOAD_SIZE = 100 * 1024;\n",
              "\n",
              "function _uploadFiles(inputId, outputId) {\n",
              "  const steps = uploadFilesStep(inputId, outputId);\n",
              "  const outputElement = document.getElementById(outputId);\n",
              "  // Cache steps on the outputElement to make it available for the next call\n",
              "  // to uploadFilesContinue from Python.\n",
              "  outputElement.steps = steps;\n",
              "\n",
              "  return _uploadFilesContinue(outputId);\n",
              "}\n",
              "\n",
              "// This is roughly an async generator (not supported in the browser yet),\n",
              "// where there are multiple asynchronous steps and the Python side is going\n",
              "// to poll for completion of each step.\n",
              "// This uses a Promise to block the python side on completion of each step,\n",
              "// then passes the result of the previous step as the input to the next step.\n",
              "function _uploadFilesContinue(outputId) {\n",
              "  const outputElement = document.getElementById(outputId);\n",
              "  const steps = outputElement.steps;\n",
              "\n",
              "  const next = steps.next(outputElement.lastPromiseValue);\n",
              "  return Promise.resolve(next.value.promise).then((value) => {\n",
              "    // Cache the last promise value to make it available to the next\n",
              "    // step of the generator.\n",
              "    outputElement.lastPromiseValue = value;\n",
              "    return next.value.response;\n",
              "  });\n",
              "}\n",
              "\n",
              "/**\n",
              " * Generator function which is called between each async step of the upload\n",
              " * process.\n",
              " * @param {string} inputId Element ID of the input file picker element.\n",
              " * @param {string} outputId Element ID of the output display.\n",
              " * @return {!Iterable<!Object>} Iterable of next steps.\n",
              " */\n",
              "function* uploadFilesStep(inputId, outputId) {\n",
              "  const inputElement = document.getElementById(inputId);\n",
              "  inputElement.disabled = false;\n",
              "\n",
              "  const outputElement = document.getElementById(outputId);\n",
              "  outputElement.innerHTML = '';\n",
              "\n",
              "  const pickedPromise = new Promise((resolve) => {\n",
              "    inputElement.addEventListener('change', (e) => {\n",
              "      resolve(e.target.files);\n",
              "    });\n",
              "  });\n",
              "\n",
              "  const cancel = document.createElement('button');\n",
              "  inputElement.parentElement.appendChild(cancel);\n",
              "  cancel.textContent = 'Cancel upload';\n",
              "  const cancelPromise = new Promise((resolve) => {\n",
              "    cancel.onclick = () => {\n",
              "      resolve(null);\n",
              "    };\n",
              "  });\n",
              "\n",
              "  // Wait for the user to pick the files.\n",
              "  const files = yield {\n",
              "    promise: Promise.race([pickedPromise, cancelPromise]),\n",
              "    response: {\n",
              "      action: 'starting',\n",
              "    }\n",
              "  };\n",
              "\n",
              "  cancel.remove();\n",
              "\n",
              "  // Disable the input element since further picks are not allowed.\n",
              "  inputElement.disabled = true;\n",
              "\n",
              "  if (!files) {\n",
              "    return {\n",
              "      response: {\n",
              "        action: 'complete',\n",
              "      }\n",
              "    };\n",
              "  }\n",
              "\n",
              "  for (const file of files) {\n",
              "    const li = document.createElement('li');\n",
              "    li.append(span(file.name, {fontWeight: 'bold'}));\n",
              "    li.append(span(\n",
              "        `(${file.type || 'n/a'}) - ${file.size} bytes, ` +\n",
              "        `last modified: ${\n",
              "            file.lastModifiedDate ? file.lastModifiedDate.toLocaleDateString() :\n",
              "                                    'n/a'} - `));\n",
              "    const percent = span('0% done');\n",
              "    li.appendChild(percent);\n",
              "\n",
              "    outputElement.appendChild(li);\n",
              "\n",
              "    const fileDataPromise = new Promise((resolve) => {\n",
              "      const reader = new FileReader();\n",
              "      reader.onload = (e) => {\n",
              "        resolve(e.target.result);\n",
              "      };\n",
              "      reader.readAsArrayBuffer(file);\n",
              "    });\n",
              "    // Wait for the data to be ready.\n",
              "    let fileData = yield {\n",
              "      promise: fileDataPromise,\n",
              "      response: {\n",
              "        action: 'continue',\n",
              "      }\n",
              "    };\n",
              "\n",
              "    // Use a chunked sending to avoid message size limits. See b/62115660.\n",
              "    let position = 0;\n",
              "    do {\n",
              "      const length = Math.min(fileData.byteLength - position, MAX_PAYLOAD_SIZE);\n",
              "      const chunk = new Uint8Array(fileData, position, length);\n",
              "      position += length;\n",
              "\n",
              "      const base64 = btoa(String.fromCharCode.apply(null, chunk));\n",
              "      yield {\n",
              "        response: {\n",
              "          action: 'append',\n",
              "          file: file.name,\n",
              "          data: base64,\n",
              "        },\n",
              "      };\n",
              "\n",
              "      let percentDone = fileData.byteLength === 0 ?\n",
              "          100 :\n",
              "          Math.round((position / fileData.byteLength) * 100);\n",
              "      percent.textContent = `${percentDone}% done`;\n",
              "\n",
              "    } while (position < fileData.byteLength);\n",
              "  }\n",
              "\n",
              "  // All done.\n",
              "  yield {\n",
              "    response: {\n",
              "      action: 'complete',\n",
              "    }\n",
              "  };\n",
              "}\n",
              "\n",
              "scope.google = scope.google || {};\n",
              "scope.google.colab = scope.google.colab || {};\n",
              "scope.google.colab._files = {\n",
              "  _uploadFiles,\n",
              "  _uploadFilesContinue,\n",
              "};\n",
              "})(self);\n",
              "</script> "
            ]
          },
          "metadata": {}
        },
        {
          "output_type": "stream",
          "name": "stdout",
          "text": [
            "Saving Office_Products.test.csv.gz to Office_Products.test.csv (2).gz\n",
            "Saving Office_Products.valid.csv.gz to Office_Products.valid.csv (1).gz\n",
            "Saving Office_Products.train.csv.gz to Office_Products.train.csv (1).gz\n"
          ]
        }
      ],
      "source": [
        "from google.colab import files\n",
        "\n",
        "uploaded = files.upload()\n"
      ]
    },
    {
      "cell_type": "code",
      "source": [
        "import pandas as pd\n",
        "\n",
        "# Step 2: Load the datasets\n",
        "train_df = pd.read_csv('Office_Products.train.csv.gz', compression='gzip')\n",
        "valid_df = pd.read_csv('Office_Products.valid.csv.gz', compression='gzip')\n",
        "test_df = pd.read_csv('Office_Products.test.csv.gz', compression='gzip')\n",
        "\n",
        "# Step 3: Convert timestamp from **milliseconds** to datetime\n",
        "train_df['timestamp'] = pd.to_datetime(train_df['timestamp'], unit='ms', errors='coerce')\n",
        "valid_df['timestamp'] = pd.to_datetime(valid_df['timestamp'], unit='ms', errors='coerce')\n",
        "test_df['timestamp'] = pd.to_datetime(test_df['timestamp'], unit='ms', errors='coerce')\n",
        "\n",
        "# Optional check (you can remove later)\n",
        "print(\"Train timestamp range:\", train_df['timestamp'].min(), \"to\", train_df['timestamp'].max())\n",
        "print(\"Valid timestamp range:\", valid_df['timestamp'].min(), \"to\", valid_df['timestamp'].max())\n",
        "print(\"Test timestamp range:\", test_df['timestamp'].min(), \"to\", test_df['timestamp'].max())\n",
        "\n",
        "# Step 4: Filter for data from the year 2020 and beyond\n",
        "filtered_train_df = train_df[train_df['timestamp'].dt.year >= 2020]\n",
        "filtered_valid_df = valid_df[valid_df['timestamp'].dt.year >= 2020]\n",
        "filtered_test_df = test_df[test_df['timestamp'].dt.year >= 2020]\n",
        "\n",
        "# Step 5: Count records before and after filtering\n",
        "print(f\"\\nTrain records before: {len(train_df)}, after (2020+): {len(filtered_train_df)}\")\n",
        "print(f\"Valid records before: {len(valid_df)}, after (2020+): {len(filtered_valid_df)}\")\n",
        "print(f\"Test records before: {len(test_df)}, after (2020+): {len(filtered_test_df)}\")\n",
        "\n",
        "# Step 6: Print unique user and product counts after filtering\n",
        "print(f\"\\n[Train Set] Unique users: {filtered_train_df['user_id'].nunique()}, products: {filtered_train_df['parent_asin'].nunique()}\")\n",
        "print(f\"[Valid Set] Unique users: {filtered_valid_df['user_id'].nunique()}, products: {filtered_valid_df['parent_asin'].nunique()}\")\n",
        "print(f\"[Test Set] Unique users: {filtered_test_df['user_id'].nunique()}, products: {filtered_test_df['parent_asin'].nunique()}\")\n"
      ],
      "metadata": {
        "colab": {
          "base_uri": "https://localhost:8080/"
        },
        "id": "VGyxNixn6A1i",
        "outputId": "85a63cea-6c27-4f40-9af1-4507e3ae6f21"
      },
      "execution_count": 4,
      "outputs": [
        {
          "output_type": "stream",
          "name": "stdout",
          "text": [
            "Train timestamp range: 1999-08-02 15:44:22 to 2023-09-01 14:00:00.316000\n",
            "Valid timestamp range: 2002-04-08 18:24:33 to 2023-09-01 14:00:33.644000\n",
            "Test timestamp range: 2002-11-20 07:14:04 to 2023-09-09 15:15:13.298000\n",
            "\n",
            "Train records before: 1354262, after (2020+): 420333\n",
            "Valid records before: 223308, after (2020+): 119969\n",
            "Test records before: 223308, after (2020+): 154000\n",
            "\n",
            "[Train Set] Unique users: 95062, products: 55137\n",
            "[Valid Set] Unique users: 119969, products: 38164\n",
            "[Test Set] Unique users: 154000, products: 40356\n"
          ]
        }
      ]
    },
    {
      "cell_type": "code",
      "source": [],
      "metadata": {
        "id": "LlK67Igu_8me"
      },
      "execution_count": null,
      "outputs": []
    },
    {
      "cell_type": "code",
      "source": [
        "\n"
      ],
      "metadata": {
        "id": "kl6XFMU34KkS"
      },
      "execution_count": 18,
      "outputs": []
    },
    {
      "cell_type": "code",
      "source": [
        "'''\n",
        "# Downgrade NumPy to version 1.x\n",
        "!pip install numpy==1.24.4 --quiet\n",
        "\n",
        "# Restart the Colab runtime to apply changes\n",
        "import os\n",
        "os.kill(os.getpid(), 9)\n",
        "'''\n"
      ],
      "metadata": {
        "id": "oliniHNa97Pg"
      },
      "execution_count": null,
      "outputs": []
    },
    {
      "cell_type": "markdown",
      "source": [
        "build a user-based collaborative filtering recommender using K-Nearest Neighbors (KNN) for explicit ratings"
      ],
      "metadata": {
        "id": "U9fD0dMM8cjp"
      }
    },
    {
      "cell_type": "code",
      "source": [
        "'''\n",
        "!pip install scikit-surprise\n",
        "'''\n"
      ],
      "metadata": {
        "colab": {
          "base_uri": "https://localhost:8080/"
        },
        "id": "knXWv7M-8dMI",
        "outputId": "9c8405a8-fdd3-42bd-b165-ccc89af7865e"
      },
      "execution_count": 1,
      "outputs": [
        {
          "output_type": "stream",
          "name": "stdout",
          "text": [
            "Requirement already satisfied: scikit-surprise in /usr/local/lib/python3.11/dist-packages (1.1.4)\n",
            "Requirement already satisfied: joblib>=1.2.0 in /usr/local/lib/python3.11/dist-packages (from scikit-surprise) (1.4.2)\n",
            "Requirement already satisfied: numpy>=1.19.5 in /usr/local/lib/python3.11/dist-packages (from scikit-surprise) (1.24.4)\n",
            "Requirement already satisfied: scipy>=1.6.0 in /usr/local/lib/python3.11/dist-packages (from scikit-surprise) (1.14.1)\n"
          ]
        }
      ]
    },
    {
      "cell_type": "code",
      "source": [
        "'''\n",
        "from surprise import Dataset, Reader, KNNBasic\n",
        "from surprise.model_selection import train_test_split, cross_validate\n",
        "\n",
        "# Step 1: Define the reader with your actual rating scale\n",
        "reader = Reader(rating_scale=(1, 5))\n",
        "\n",
        "# Step 2: Load data into Surprise format\n",
        "data = Dataset.load_from_df(filtered_train_df[['user_id', 'parent_asin', 'rating']], reader)\n",
        "\n",
        "# Step 3: Build the full trainset\n",
        "trainset = data.build_full_trainset()\n",
        "\n",
        "# Step 4: Define the user-based collaborative filtering model\n",
        "sim_options = {\n",
        "    'name': 'cosine',      # similarity measure: cosine or pearson\n",
        "    'user_based': True     # this means user-user filtering\n",
        "}\n",
        "model = KNNBasic(k=20, sim_options=sim_options)\n",
        "model.fit(trainset)\n",
        "\n",
        "# Step 5: Try a prediction\n",
        "uid = filtered_train_df['user_id'].iloc[0]\n",
        "iid = filtered_train_df['parent_asin'].iloc[0]\n",
        "pred = model.predict(uid, iid)\n",
        "print(f\"Predicted rating for user {uid} on item {iid}: {pred.est:.2f}\")\n",
        "'''\n"
      ],
      "metadata": {
        "id": "kT0chB6n8dro"
      },
      "execution_count": null,
      "outputs": []
    },
    {
      "cell_type": "code",
      "source": [
        "!pip install lightfm --quiet\n"
      ],
      "metadata": {
        "id": "103IpGrn_9Zb"
      },
      "execution_count": 5,
      "outputs": []
    },
    {
      "cell_type": "code",
      "source": [
        "# Step 2: Prepare and Train LightFM model\n",
        "import pandas as pd\n",
        "from lightfm import LightFM\n",
        "from lightfm.data import Dataset\n",
        "\n",
        "# Build LightFM-compatible dataset from user-product-rating tuples\n",
        "dataset = Dataset()\n",
        "dataset.fit(filtered_train_df['user_id'], filtered_train_df['parent_asin'])\n",
        "\n",
        "# Build the interaction matrix using explicit ratings\n",
        "(interactions, weights) = dataset.build_interactions([\n",
        "    (row['user_id'], row['parent_asin'], row['rating']) for idx, row in filtered_train_df.iterrows()\n",
        "])\n",
        "\n",
        "# Train a model using logistic loss (works well for ranking & can approximate explicit ratings)\n",
        "model = LightFM(loss='logistic')\n",
        "model.fit(interactions, sample_weight=weights, epochs=10, num_threads=2)\n",
        "\n"
      ],
      "metadata": {
        "colab": {
          "base_uri": "https://localhost:8080/"
        },
        "id": "L74ily9lAEis",
        "outputId": "7acd28fa-57f2-47aa-f677-bb7bf69aba02"
      },
      "execution_count": 10,
      "outputs": [
        {
          "output_type": "execute_result",
          "data": {
            "text/plain": [
              "<lightfm.lightfm.LightFM at 0x78f97e45ddd0>"
            ]
          },
          "metadata": {},
          "execution_count": 10
        }
      ]
    },
    {
      "cell_type": "code",
      "source": [
        "\n"
      ],
      "metadata": {
        "colab": {
          "base_uri": "https://localhost:8080/"
        },
        "id": "jczsu7JWBpzW",
        "outputId": "7f8ee86f-9c24-4009-e815-9e727464cf86"
      },
      "execution_count": 7,
      "outputs": [
        {
          "output_type": "execute_result",
          "data": {
            "text/plain": [
              "<lightfm.lightfm.LightFM at 0x78f9769954d0>"
            ]
          },
          "metadata": {},
          "execution_count": 7
        }
      ]
    },
    {
      "cell_type": "code",
      "source": [
        "# Step 3: Predict the score for a specific user-item pair\n",
        "\n",
        "# Get the internal LightFM mappings\n",
        "user_id_map, user_feature_map, item_id_map, item_feature_map = dataset.mapping()\n",
        "\n",
        "# Select one user and one product (item)\n",
        "uid = list(user_id_map.keys())[0]\n",
        "iid = list(item_id_map.keys())[0]\n",
        "\n",
        "# Convert to internal LightFM IDs\n",
        "user_index = user_id_map[uid]\n",
        "item_index = item_id_map[iid]\n",
        "\n",
        "# Predict the score (needs to be in list format)\n",
        "score = model.predict([user_index], [item_index])\n",
        "\n",
        "# Output result\n",
        "print(f\"(SVD)Predicted rating (score) for user '{uid}' and item '{iid}': {score[0]:.2f}\")\n",
        "\n"
      ],
      "metadata": {
        "colab": {
          "base_uri": "https://localhost:8080/"
        },
        "id": "a-6zF8Z3BxdT",
        "outputId": "370bfea3-4453-4d1e-bffe-5bb97d69a2dc"
      },
      "execution_count": 12,
      "outputs": [
        {
          "output_type": "stream",
          "name": "stdout",
          "text": [
            "(SVD)Predicted rating (score) for user 'AFKZENTNBQ7A7V7UXW5JJI6UGRYQ' and item 'B098K24779': 2.74\n"
          ]
        }
      ]
    },
    {
      "cell_type": "code",
      "source": [
        "import numpy as np\n",
        "from sklearn.metrics.pairwise import cosine_similarity\n",
        "\n",
        "# === Step 1: Extract user/item embeddings ===\n",
        "user_embeddings = model.user_embeddings\n",
        "item_embeddings = model.item_embeddings\n",
        "\n",
        "# === Step 2: Pick a target user or item ===\n",
        "# Let's say we pick the first user in the user_id_map\n",
        "uid = list(user_id_map.keys())[0]\n",
        "user_index = user_id_map[uid]\n",
        "\n",
        "# === Step 3: Compute cosine similarity between this user and all other users ===\n",
        "user_vec = user_embeddings[user_index].reshape(1, -1)\n",
        "similarities = cosine_similarity(user_vec, user_embeddings)[0]  # shape: (num_users,)\n",
        "\n",
        "# === Step 4: Get top K similar users (excluding the user itself) ===\n",
        "K = 5\n",
        "similar_user_indices = np.argsort(similarities)[::-1][1:K+1]  # skip self at index 0\n",
        "\n",
        "# === Step 5: Map internal indices back to user_ids and print ===\n",
        "inv_user_id_map = {v: k for k, v in user_id_map.items()}\n",
        "\n",
        "print(f\"\\nTop {K} similar users to '{uid}':\")\n",
        "for neighbor_idx in similar_user_indices:\n",
        "    neighbor_uid = inv_user_id_map[neighbor_idx]\n",
        "    sim_score = similarities[neighbor_idx]\n",
        "    print(f\"User '{neighbor_uid}' | Cosine Similarity: {sim_score:.4f}\")\n"
      ],
      "metadata": {
        "colab": {
          "base_uri": "https://localhost:8080/"
        },
        "id": "PJ0ikIfkC4dd",
        "outputId": "4339a265-1cf4-4458-b6a5-f8777e0d4c8d"
      },
      "execution_count": 13,
      "outputs": [
        {
          "output_type": "stream",
          "name": "stdout",
          "text": [
            "\n",
            "Top 5 similar users to 'AFKZENTNBQ7A7V7UXW5JJI6UGRYQ':\n",
            "User 'AEMMD7M4TPVOKOG4WTVGFQMFAI6A' | Cosine Similarity: 0.9392\n",
            "User 'AFXV5R4UZHUHQBDWCFUMPZVER2ZA' | Cosine Similarity: 0.9389\n",
            "User 'AFZ4D3N3EZQSAPZVHYAKBSMI2EPQ' | Cosine Similarity: 0.9262\n",
            "User 'AFZNJEXXZJSBG3VCOOAMQZGMBPZA' | Cosine Similarity: 0.9210\n",
            "User 'AHGBHWTHNCKNCA6AGTTN32YY7RFQ' | Cosine Similarity: 0.9145\n"
          ]
        }
      ]
    },
    {
      "cell_type": "code",
      "source": [
        "# Predict for the target user for items liked by nearest neighbor\n",
        "item_index = 0  # for example\n",
        "pred_score = model.predict([user_index], [item_index])[0]\n",
        "print(f\"Predicted score for user '{uid}' on item index {item_index}: {pred_score:.2f}\")\n"
      ],
      "metadata": {
        "colab": {
          "base_uri": "https://localhost:8080/"
        },
        "id": "lQ_LG2luDBKy",
        "outputId": "679f643b-82f6-48c6-ebe1-f93efc65906d"
      },
      "execution_count": 14,
      "outputs": [
        {
          "output_type": "stream",
          "name": "stdout",
          "text": [
            "Predicted score for user 'AFKZENTNBQ7A7V7UXW5JJI6UGRYQ' on item index 0: 2.74\n"
          ]
        }
      ]
    }
  ]
}